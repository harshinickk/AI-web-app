{
 "cells": [
  {
   "cell_type": "code",
   "execution_count": 1,
   "metadata": {},
   "outputs": [],
   "source": [
    "import pandas as pd\n",
    "from matplotlib import pyplot as plt\n",
    "from sklearn.linear_model import LinearRegression\n",
    "from sklearn.model_selection import train_test_split # Import train_test_split function\n",
    "from sklearn import metrics #Import scikit-learn metrics module for accuracy calculation"
   ]
  },
  {
   "cell_type": "code",
   "execution_count": 2,
   "metadata": {},
   "outputs": [],
   "source": [
    "water = pd.read_csv(\"moisture_days.csv\")\n",
    "X = water.iloc[:,:-1].values\n",
    "y = water.iloc[:,1].values\n",
    "#X = water.moisture\n",
    "#y = water.days"
   ]
  },
  {
   "cell_type": "code",
   "execution_count": 3,
   "metadata": {},
   "outputs": [
    {
     "name": "stdout",
     "output_type": "stream",
     "text": [
      "y_pred[0] for X_test[0]=600 moisture 20.105500783616975 days\n",
      "y_pred[1] for X_test[1]=1023 moisture 8.85524338076971 days\n",
      "Days: 11.250257402847264\n",
      "water needed after 11.250257402847264days\n"
     ]
    }
   ],
   "source": [
    "X_train, X_test, y_train, y_test = train_test_split(X, y, test_size=0.3, random_state=1) \n",
    "lnrg = LinearRegression()\n",
    "lnrg=lnrg.fit(X_train,y_train)\n",
    "X_test[0]=600\n",
    "X_test[1]=1023\n",
    "y_pred = lnrg.predict(X_test)\n",
    "noofdays=y_pred[0]-y_pred[1]\n",
    "print('y_pred[0] for X_test[0]=600 moisture',y_pred[0],'days')\n",
    "print('y_pred[1] for X_test[1]=1023 moisture',y_pred[1],'days')\n",
    "print('Days:',noofdays)\n",
    "print('water needed after '+str(noofdays)+'days')"
   ]
  },
  {
   "cell_type": "code",
   "execution_count": 4,
   "metadata": {},
   "outputs": [
    {
     "name": "stdout",
     "output_type": "stream",
     "text": [
      "MSE: 20.524564586718466\n",
      "RMSE: 4.530404461714038\n",
      "R2: 0.5526130970064059\n"
     ]
    }
   ],
   "source": [
    "import math\n",
    "from math import sqrt\n",
    "from sklearn.metrics import mean_squared_error\n",
    "from sklearn.metrics import r2_score\n",
    "print('MSE:',mean_squared_error(y_test,y_pred))\n",
    "print('RMSE:',sqrt(mean_squared_error(y_test,y_pred)))\n",
    "print('R2:',r2_score(y_test, y_pred))"
   ]
  },
  {
   "cell_type": "code",
   "execution_count": 5,
   "metadata": {},
   "outputs": [
    {
     "name": "stdout",
     "output_type": "stream",
     "text": [
      "[[729]] [16.67457122]\n"
     ]
    }
   ],
   "source": [
    "new_input = [[729]]\n",
    "new_output = lnrg.predict(new_input)\n",
    "print(new_input, new_output)"
   ]
  },
  {
   "cell_type": "code",
   "execution_count": 6,
   "metadata": {},
   "outputs": [
    {
     "name": "stdout",
     "output_type": "stream",
     "text": [
      "[[189]] [31.03660195]\n"
     ]
    }
   ],
   "source": [
    "new_input = water.iloc[-1:,0:1].values\n",
    "new_output = lnrg.predict(new_input)\n",
    "print(new_input, new_output)"
   ]
  },
  {
   "cell_type": "code",
   "execution_count": 7,
   "metadata": {},
   "outputs": [
    {
     "name": "stdout",
     "output_type": "stream",
     "text": [
      "y_pred[0] for X_test[0]= [[189]] moisture 31.03660194808559 days\n",
      "y_pred[1] for X_test[1]=1023 moisture 8.85524338076971 days\n",
      "Days: 22.18135856731588\n",
      "water needed after 22.18135856731588days\n"
     ]
    }
   ],
   "source": [
    "X_test[0]=water.iloc[-1:,0:1].values\n",
    "X_test[1]=1023\n",
    "y_pred = lnrg.predict(X_test)\n",
    "noofdays=y_pred[0]-y_pred[1]\n",
    "print('y_pred[0] for X_test[0]=',water.iloc[-1:,0:1].values, 'moisture',y_pred[0],'days')\n",
    "print('y_pred[1] for X_test[1]=1023 moisture',y_pred[1],'days')\n",
    "print('Days:',noofdays)\n",
    "print('water needed after '+str(noofdays)+'days')"
   ]
  },
  {
   "cell_type": "code",
   "execution_count": 8,
   "metadata": {},
   "outputs": [],
   "source": [
    "import pickle\n",
    "pickle.dump(lnrg, open('cyclepredict.pkl', 'wb'))"
   ]
  },
  {
   "cell_type": "code",
   "execution_count": 9,
   "metadata": {},
   "outputs": [
    {
     "data": {
      "text/plain": [
       "array([31.03660195])"
      ]
     },
     "execution_count": 9,
     "metadata": {},
     "output_type": "execute_result"
    }
   ],
   "source": [
    "cyclemodel = pickle.load(open('cyclepredict.pkl', 'rb'))\n",
    "lnrg.predict([[189]])"
   ]
  },
  {
   "cell_type": "code",
   "execution_count": 10,
   "metadata": {},
   "outputs": [
    {
     "data": {
      "text/plain": [
       "array([31.03660195])"
      ]
     },
     "execution_count": 10,
     "metadata": {},
     "output_type": "execute_result"
    }
   ],
   "source": [
    "cyclemodel.predict([[189]])"
   ]
  },
  {
   "cell_type": "code",
   "execution_count": null,
   "metadata": {},
   "outputs": [],
   "source": []
  }
 ],
 "metadata": {
  "kernelspec": {
   "display_name": "Python 3",
   "language": "python",
   "name": "python3"
  },
  "language_info": {
   "codemirror_mode": {
    "name": "ipython",
    "version": 3
   },
   "file_extension": ".py",
   "mimetype": "text/x-python",
   "name": "python",
   "nbconvert_exporter": "python",
   "pygments_lexer": "ipython3",
   "version": "3.7.3"
  }
 },
 "nbformat": 4,
 "nbformat_minor": 2
}
